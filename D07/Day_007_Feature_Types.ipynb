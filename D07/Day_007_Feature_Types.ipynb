{
 "cells": [
  {
   "cell_type": "markdown",
   "metadata": {},
   "source": [
    "# 範例 : (Kaggle)房價預測\n",
    "***\n",
    "- 以下用房價預測資料, 觀察特徵的幾種類型\n",
    "- 這份資料有 'int64', 'float64', 'object' 三種欄位, 分別將其以python的list格式紀錄下來"
   ]
  },
  {
   "cell_type": "markdown",
   "metadata": {},
   "source": [
    "# [教學目標]\n",
    "- 以下程式碼將示範 : 如何將欄位名稱, 依照所屬類型分開, 並列出指定類型的部分資料"
   ]
  },
  {
   "cell_type": "markdown",
   "metadata": {},
   "source": [
    "# [範例重點]\n",
    "- 如何觀察目前的 DataFrame 中, 有哪些欄位類型, 以及數量各有多少 (In[3], Out[3])   \n",
    "- 如何將欄位名稱依欄位類型分開 (In[4], Out[4])\n",
    "- 如何只顯示特定類型的欄位資料 (In[5], Out[5])"
   ]
  },
  {
   "cell_type": "code",
   "execution_count": 1,
   "metadata": {},
   "outputs": [
    {
     "output_type": "execute_result",
     "data": {
      "text/plain": "(1460, 81)"
     },
     "metadata": {},
     "execution_count": 1
    }
   ],
   "source": [
    "# 載入基本套件\n",
    "import pandas as pd\n",
    "import numpy as np\n",
    "\n",
    "# 讀取訓練與測試資料\n",
    "data_path = 'data/'\n",
    "df_train = pd.read_csv(data_path + 'house_train.csv.gz')\n",
    "df_test = pd.read_csv(data_path + 'house_test.csv.gz')\n",
    "df_train.shape"
   ]
  },
  {
   "cell_type": "code",
   "execution_count": 2,
   "metadata": {},
   "outputs": [
    {
     "output_type": "execute_result",
     "data": {
      "text/plain": "   MSSubClass MSZoning  LotFrontage  LotArea Street Alley LotShape  \\\n0          60       RL         65.0     8450   Pave   NaN      Reg   \n1          20       RL         80.0     9600   Pave   NaN      Reg   \n2          60       RL         68.0    11250   Pave   NaN      IR1   \n3          70       RL         60.0     9550   Pave   NaN      IR1   \n4          60       RL         84.0    14260   Pave   NaN      IR1   \n\n  LandContour Utilities LotConfig  ... ScreenPorch PoolArea PoolQC Fence  \\\n0         Lvl    AllPub    Inside  ...           0        0    NaN   NaN   \n1         Lvl    AllPub       FR2  ...           0        0    NaN   NaN   \n2         Lvl    AllPub    Inside  ...           0        0    NaN   NaN   \n3         Lvl    AllPub    Corner  ...           0        0    NaN   NaN   \n4         Lvl    AllPub       FR2  ...           0        0    NaN   NaN   \n\n  MiscFeature MiscVal  MoSold  YrSold  SaleType  SaleCondition  \n0         NaN       0       2    2008        WD         Normal  \n1         NaN       0       5    2007        WD         Normal  \n2         NaN       0       9    2008        WD         Normal  \n3         NaN       0       2    2006        WD        Abnorml  \n4         NaN       0      12    2008        WD         Normal  \n\n[5 rows x 79 columns]",
      "text/html": "<div>\n<style scoped>\n    .dataframe tbody tr th:only-of-type {\n        vertical-align: middle;\n    }\n\n    .dataframe tbody tr th {\n        vertical-align: top;\n    }\n\n    .dataframe thead th {\n        text-align: right;\n    }\n</style>\n<table border=\"1\" class=\"dataframe\">\n  <thead>\n    <tr style=\"text-align: right;\">\n      <th></th>\n      <th>MSSubClass</th>\n      <th>MSZoning</th>\n      <th>LotFrontage</th>\n      <th>LotArea</th>\n      <th>Street</th>\n      <th>Alley</th>\n      <th>LotShape</th>\n      <th>LandContour</th>\n      <th>Utilities</th>\n      <th>LotConfig</th>\n      <th>...</th>\n      <th>ScreenPorch</th>\n      <th>PoolArea</th>\n      <th>PoolQC</th>\n      <th>Fence</th>\n      <th>MiscFeature</th>\n      <th>MiscVal</th>\n      <th>MoSold</th>\n      <th>YrSold</th>\n      <th>SaleType</th>\n      <th>SaleCondition</th>\n    </tr>\n  </thead>\n  <tbody>\n    <tr>\n      <th>0</th>\n      <td>60</td>\n      <td>RL</td>\n      <td>65.0</td>\n      <td>8450</td>\n      <td>Pave</td>\n      <td>NaN</td>\n      <td>Reg</td>\n      <td>Lvl</td>\n      <td>AllPub</td>\n      <td>Inside</td>\n      <td>...</td>\n      <td>0</td>\n      <td>0</td>\n      <td>NaN</td>\n      <td>NaN</td>\n      <td>NaN</td>\n      <td>0</td>\n      <td>2</td>\n      <td>2008</td>\n      <td>WD</td>\n      <td>Normal</td>\n    </tr>\n    <tr>\n      <th>1</th>\n      <td>20</td>\n      <td>RL</td>\n      <td>80.0</td>\n      <td>9600</td>\n      <td>Pave</td>\n      <td>NaN</td>\n      <td>Reg</td>\n      <td>Lvl</td>\n      <td>AllPub</td>\n      <td>FR2</td>\n      <td>...</td>\n      <td>0</td>\n      <td>0</td>\n      <td>NaN</td>\n      <td>NaN</td>\n      <td>NaN</td>\n      <td>0</td>\n      <td>5</td>\n      <td>2007</td>\n      <td>WD</td>\n      <td>Normal</td>\n    </tr>\n    <tr>\n      <th>2</th>\n      <td>60</td>\n      <td>RL</td>\n      <td>68.0</td>\n      <td>11250</td>\n      <td>Pave</td>\n      <td>NaN</td>\n      <td>IR1</td>\n      <td>Lvl</td>\n      <td>AllPub</td>\n      <td>Inside</td>\n      <td>...</td>\n      <td>0</td>\n      <td>0</td>\n      <td>NaN</td>\n      <td>NaN</td>\n      <td>NaN</td>\n      <td>0</td>\n      <td>9</td>\n      <td>2008</td>\n      <td>WD</td>\n      <td>Normal</td>\n    </tr>\n    <tr>\n      <th>3</th>\n      <td>70</td>\n      <td>RL</td>\n      <td>60.0</td>\n      <td>9550</td>\n      <td>Pave</td>\n      <td>NaN</td>\n      <td>IR1</td>\n      <td>Lvl</td>\n      <td>AllPub</td>\n      <td>Corner</td>\n      <td>...</td>\n      <td>0</td>\n      <td>0</td>\n      <td>NaN</td>\n      <td>NaN</td>\n      <td>NaN</td>\n      <td>0</td>\n      <td>2</td>\n      <td>2006</td>\n      <td>WD</td>\n      <td>Abnorml</td>\n    </tr>\n    <tr>\n      <th>4</th>\n      <td>60</td>\n      <td>RL</td>\n      <td>84.0</td>\n      <td>14260</td>\n      <td>Pave</td>\n      <td>NaN</td>\n      <td>IR1</td>\n      <td>Lvl</td>\n      <td>AllPub</td>\n      <td>FR2</td>\n      <td>...</td>\n      <td>0</td>\n      <td>0</td>\n      <td>NaN</td>\n      <td>NaN</td>\n      <td>NaN</td>\n      <td>0</td>\n      <td>12</td>\n      <td>2008</td>\n      <td>WD</td>\n      <td>Normal</td>\n    </tr>\n  </tbody>\n</table>\n<p>5 rows × 79 columns</p>\n</div>"
     },
     "metadata": {},
     "execution_count": 2
    }
   ],
   "source": [
    "# 訓練資料需要 train_X, train_Y / 預測輸出需要 ids(識別每個預測值), test_X\n",
    "# 在此先抽離出 train_Y 與 ids, 而先將 train_X, test_X 該有的資料合併成 df, 先作特徵工程\n",
    "train_Y = np.log1p(df_train['SalePrice'])\n",
    "ids = df_test['Id']\n",
    "df_train = df_train.drop(['Id', 'SalePrice'] , axis=1)\n",
    "df_test = df_test.drop(['Id'] , axis=1)\n",
    "df = pd.concat([df_train,df_test])\n",
    "df.head()"
   ]
  },
  {
   "cell_type": "code",
   "execution_count": 3,
   "metadata": {},
   "outputs": [
    {
     "output_type": "execute_result",
     "data": {
      "text/plain": "  Column Type  Count\n0       int64     25\n1     float64     11\n2      object     43",
      "text/html": "<div>\n<style scoped>\n    .dataframe tbody tr th:only-of-type {\n        vertical-align: middle;\n    }\n\n    .dataframe tbody tr th {\n        vertical-align: top;\n    }\n\n    .dataframe thead th {\n        text-align: right;\n    }\n</style>\n<table border=\"1\" class=\"dataframe\">\n  <thead>\n    <tr style=\"text-align: right;\">\n      <th></th>\n      <th>Column Type</th>\n      <th>Count</th>\n    </tr>\n  </thead>\n  <tbody>\n    <tr>\n      <th>0</th>\n      <td>int64</td>\n      <td>25</td>\n    </tr>\n    <tr>\n      <th>1</th>\n      <td>float64</td>\n      <td>11</td>\n    </tr>\n    <tr>\n      <th>2</th>\n      <td>object</td>\n      <td>43</td>\n    </tr>\n  </tbody>\n</table>\n</div>"
     },
     "metadata": {},
     "execution_count": 3
    }
   ],
   "source": [
    "# 秀出資料欄位的類型, 與對應的數量\n",
    "# df.dtypes : 轉成以欄位為 index, 類別(type)為 value 的 DataFrame\n",
    "# .reset_index() : 預設是將原本的 index 轉成一個新的欄位, 如果不須保留 index, 則通常會寫成 .reset_index(drop=True)\n",
    "dtype_df = df.dtypes.reset_index() \n",
    "dtype_df.columns = [\"Count\", \"Column Type\"]\n",
    "dtype_df = dtype_df.groupby(\"Column Type\").aggregate('count').reset_index()\n",
    "dtype_df"
   ]
  },
  {
   "cell_type": "code",
   "execution_count": 4,
   "metadata": {
    "tags": []
   },
   "outputs": [
    {
     "output_type": "stream",
     "name": "stdout",
     "text": "25 Integer Features : ['MSSubClass', 'LotArea', 'OverallQual', 'OverallCond', 'YearBuilt', 'YearRemodAdd', '1stFlrSF', '2ndFlrSF', 'LowQualFinSF', 'GrLivArea', 'FullBath', 'HalfBath', 'BedroomAbvGr', 'KitchenAbvGr', 'TotRmsAbvGrd', 'Fireplaces', 'WoodDeckSF', 'OpenPorchSF', 'EnclosedPorch', '3SsnPorch', 'ScreenPorch', 'PoolArea', 'MiscVal', 'MoSold', 'YrSold']\n\n11 Float Features : ['LotFrontage', 'MasVnrArea', 'BsmtFinSF1', 'BsmtFinSF2', 'BsmtUnfSF', 'TotalBsmtSF', 'BsmtFullBath', 'BsmtHalfBath', 'GarageYrBlt', 'GarageCars', 'GarageArea']\n\n43 Object Features : ['MSZoning', 'Street', 'Alley', 'LotShape', 'LandContour', 'Utilities', 'LotConfig', 'LandSlope', 'Neighborhood', 'Condition1', 'Condition2', 'BldgType', 'HouseStyle', 'RoofStyle', 'RoofMatl', 'Exterior1st', 'Exterior2nd', 'MasVnrType', 'ExterQual', 'ExterCond', 'Foundation', 'BsmtQual', 'BsmtCond', 'BsmtExposure', 'BsmtFinType1', 'BsmtFinType2', 'Heating', 'HeatingQC', 'CentralAir', 'Electrical', 'KitchenQual', 'Functional', 'FireplaceQu', 'GarageType', 'GarageFinish', 'GarageQual', 'GarageCond', 'PavedDrive', 'PoolQC', 'Fence', 'MiscFeature', 'SaleType', 'SaleCondition']\n"
    }
   ],
   "source": [
    "# 確定只有 int64, float64, object 三種類型後對欄位名稱執行迴圈, 分別將欄位名稱存於三個 list 中\n",
    "int_features = []\n",
    "float_features = []\n",
    "object_features = []\n",
    "# .dtypes(欄位類型), .columns(欄位名稱) 是 DataFrame 提供的兩個方法, 這裡順便展示一下 for 與 zip 搭配的用法\n",
    "for dtype, feature in zip(df.dtypes, df.columns):\n",
    "    if dtype == 'float64':\n",
    "        float_features.append(feature)\n",
    "    elif dtype == 'int64':\n",
    "        int_features.append(feature)\n",
    "    else:\n",
    "        object_features.append(feature)\n",
    "# 這邊採用的寫法稱為 f-string, 是 Python 3.6.2 以後版本才出現的\n",
    "# 如果無法執行, 則需要更新到這個版本之後, 或自行將程式改寫為 str.format 形式\n",
    "# 改寫方式可以參考 https://blog.louie.lu/2017/08/08/outdate-python-string-format-and-fstring/\n",
    "print(f'{len(int_features)} Integer Features : {int_features}\\n')\n",
    "print(f'{len(float_features)} Float Features : {float_features}\\n')\n",
    "print(f'{len(object_features)} Object Features : {object_features}')"
   ]
  },
  {
   "cell_type": "code",
   "execution_count": 5,
   "metadata": {},
   "outputs": [
    {
     "output_type": "execute_result",
     "data": {
      "text/plain": "   LotFrontage  MasVnrArea  BsmtFinSF1  BsmtFinSF2  BsmtUnfSF  TotalBsmtSF  \\\n0         65.0       196.0       706.0         0.0      150.0        856.0   \n1         80.0         0.0       978.0         0.0      284.0       1262.0   \n2         68.0       162.0       486.0         0.0      434.0        920.0   \n3         60.0         0.0       216.0         0.0      540.0        756.0   \n4         84.0       350.0       655.0         0.0      490.0       1145.0   \n\n   BsmtFullBath  BsmtHalfBath  GarageYrBlt  GarageCars  GarageArea  \n0           1.0           0.0       2003.0         2.0       548.0  \n1           0.0           1.0       1976.0         2.0       460.0  \n2           1.0           0.0       2001.0         2.0       608.0  \n3           1.0           0.0       1998.0         3.0       642.0  \n4           1.0           0.0       2000.0         3.0       836.0  ",
      "text/html": "<div>\n<style scoped>\n    .dataframe tbody tr th:only-of-type {\n        vertical-align: middle;\n    }\n\n    .dataframe tbody tr th {\n        vertical-align: top;\n    }\n\n    .dataframe thead th {\n        text-align: right;\n    }\n</style>\n<table border=\"1\" class=\"dataframe\">\n  <thead>\n    <tr style=\"text-align: right;\">\n      <th></th>\n      <th>LotFrontage</th>\n      <th>MasVnrArea</th>\n      <th>BsmtFinSF1</th>\n      <th>BsmtFinSF2</th>\n      <th>BsmtUnfSF</th>\n      <th>TotalBsmtSF</th>\n      <th>BsmtFullBath</th>\n      <th>BsmtHalfBath</th>\n      <th>GarageYrBlt</th>\n      <th>GarageCars</th>\n      <th>GarageArea</th>\n    </tr>\n  </thead>\n  <tbody>\n    <tr>\n      <th>0</th>\n      <td>65.0</td>\n      <td>196.0</td>\n      <td>706.0</td>\n      <td>0.0</td>\n      <td>150.0</td>\n      <td>856.0</td>\n      <td>1.0</td>\n      <td>0.0</td>\n      <td>2003.0</td>\n      <td>2.0</td>\n      <td>548.0</td>\n    </tr>\n    <tr>\n      <th>1</th>\n      <td>80.0</td>\n      <td>0.0</td>\n      <td>978.0</td>\n      <td>0.0</td>\n      <td>284.0</td>\n      <td>1262.0</td>\n      <td>0.0</td>\n      <td>1.0</td>\n      <td>1976.0</td>\n      <td>2.0</td>\n      <td>460.0</td>\n    </tr>\n    <tr>\n      <th>2</th>\n      <td>68.0</td>\n      <td>162.0</td>\n      <td>486.0</td>\n      <td>0.0</td>\n      <td>434.0</td>\n      <td>920.0</td>\n      <td>1.0</td>\n      <td>0.0</td>\n      <td>2001.0</td>\n      <td>2.0</td>\n      <td>608.0</td>\n    </tr>\n    <tr>\n      <th>3</th>\n      <td>60.0</td>\n      <td>0.0</td>\n      <td>216.0</td>\n      <td>0.0</td>\n      <td>540.0</td>\n      <td>756.0</td>\n      <td>1.0</td>\n      <td>0.0</td>\n      <td>1998.0</td>\n      <td>3.0</td>\n      <td>642.0</td>\n    </tr>\n    <tr>\n      <th>4</th>\n      <td>84.0</td>\n      <td>350.0</td>\n      <td>655.0</td>\n      <td>0.0</td>\n      <td>490.0</td>\n      <td>1145.0</td>\n      <td>1.0</td>\n      <td>0.0</td>\n      <td>2000.0</td>\n      <td>3.0</td>\n      <td>836.0</td>\n    </tr>\n  </tbody>\n</table>\n</div>"
     },
     "metadata": {},
     "execution_count": 5
    }
   ],
   "source": [
    "#這樣就可以單獨秀出特定類型的欄位集合, 方便做後續的特徵工程處理\n",
    "df[float_features].head()"
   ]
  },
  {
   "cell_type": "markdown",
   "metadata": {
    "collapsed": true
   },
   "source": [
    "# 作業1 \n",
    "* 試著執行作業程式，觀察三種類型的欄位分別進行( 平均 mean / 最大值 Max / 相異值 nunique ) 中的九次操作會有那些問題?  \n",
    "並試著解釋那些發生Error的程式區塊的原因?  \n",
    "\n",
    "# 作業2\n",
    "* 思考一下，試著舉出今天五種類型以外的一種或多種資料類型，你舉出的新類型是否可以歸在三大類中的某些大類?  \n",
    "所以三大類特徵中，哪一大類處理起來應該最複雜?"
   ]
  },
  {
   "cell_type": "code",
   "execution_count": 6,
   "metadata": {
    "collapsed": true
   },
   "outputs": [
    {
     "output_type": "execute_result",
     "data": {
      "text/plain": "MSSubClass          57.137718\nLotArea          10168.114080\nOverallQual          6.089072\nOverallCond          5.564577\nYearBuilt         1971.312778\nYearRemodAdd      1984.264474\n1stFlrSF          1159.581706\n2ndFlrSF           336.483727\nLowQualFinSF         4.694416\nGrLivArea         1500.759849\nFullBath             1.568003\nHalfBath             0.380267\nBedroomAbvGr         2.860226\nKitchenAbvGr         1.044536\nTotRmsAbvGrd         6.451524\nFireplaces           0.597122\nWoodDeckSF          93.709832\nOpenPorchSF         47.486811\nEnclosedPorch       23.098321\n3SsnPorch            2.602261\nScreenPorch         16.062350\nPoolArea             2.251799\nMiscVal             50.825968\nMoSold               6.213087\nYrSold            2007.792737\ndtype: float64"
     },
     "metadata": {},
     "execution_count": 6
    }
   ],
   "source": [
    "df[int_features].mean()"
   ]
  },
  {
   "cell_type": "code",
   "execution_count": 7,
   "metadata": {},
   "outputs": [
    {
     "output_type": "execute_result",
     "data": {
      "text/plain": "MSSubClass          190\nLotArea          215245\nOverallQual          10\nOverallCond           9\nYearBuilt          2010\nYearRemodAdd       2010\n1stFlrSF           5095\n2ndFlrSF           2065\nLowQualFinSF       1064\nGrLivArea          5642\nFullBath              4\nHalfBath              2\nBedroomAbvGr          8\nKitchenAbvGr          3\nTotRmsAbvGrd         15\nFireplaces            4\nWoodDeckSF         1424\nOpenPorchSF         742\nEnclosedPorch      1012\n3SsnPorch           508\nScreenPorch         576\nPoolArea            800\nMiscVal           17000\nMoSold               12\nYrSold             2010\ndtype: int64"
     },
     "metadata": {},
     "execution_count": 7
    }
   ],
   "source": [
    "df[int_features].max()"
   ]
  },
  {
   "cell_type": "code",
   "execution_count": 8,
   "metadata": {},
   "outputs": [
    {
     "output_type": "execute_result",
     "data": {
      "text/plain": "MSSubClass         16\nLotArea          1951\nOverallQual        10\nOverallCond         9\nYearBuilt         118\nYearRemodAdd       61\n1stFlrSF         1083\n2ndFlrSF          635\nLowQualFinSF       36\nGrLivArea        1292\nFullBath            5\nHalfBath            3\nBedroomAbvGr        8\nKitchenAbvGr        4\nTotRmsAbvGrd       14\nFireplaces          5\nWoodDeckSF        379\nOpenPorchSF       252\nEnclosedPorch     183\n3SsnPorch          31\nScreenPorch       121\nPoolArea           14\nMiscVal            38\nMoSold             12\nYrSold              5\ndtype: int64"
     },
     "metadata": {},
     "execution_count": 8
    }
   ],
   "source": [
    "df[int_features].nunique()"
   ]
  },
  {
   "cell_type": "code",
   "execution_count": 9,
   "metadata": {},
   "outputs": [
    {
     "output_type": "execute_result",
     "data": {
      "text/plain": "LotFrontage       69.305795\nMasVnrArea       102.201312\nBsmtFinSF1       441.423235\nBsmtFinSF2        49.582248\nBsmtUnfSF        560.772104\nTotalBsmtSF     1051.777587\nBsmtFullBath       0.429894\nBsmtHalfBath       0.061364\nGarageYrBlt     1978.113406\nGarageCars         1.766621\nGarageArea       472.874572\ndtype: float64"
     },
     "metadata": {},
     "execution_count": 9
    }
   ],
   "source": [
    "df[float_features].mean()"
   ]
  },
  {
   "cell_type": "code",
   "execution_count": 10,
   "metadata": {},
   "outputs": [
    {
     "output_type": "execute_result",
     "data": {
      "text/plain": "LotFrontage      313.0\nMasVnrArea      1600.0\nBsmtFinSF1      5644.0\nBsmtFinSF2      1526.0\nBsmtUnfSF       2336.0\nTotalBsmtSF     6110.0\nBsmtFullBath       3.0\nBsmtHalfBath       2.0\nGarageYrBlt     2207.0\nGarageCars         5.0\nGarageArea      1488.0\ndtype: float64"
     },
     "metadata": {},
     "execution_count": 10
    }
   ],
   "source": [
    "df[float_features].max()"
   ]
  },
  {
   "cell_type": "code",
   "execution_count": 11,
   "metadata": {},
   "outputs": [
    {
     "output_type": "execute_result",
     "data": {
      "text/plain": "LotFrontage      128\nMasVnrArea       444\nBsmtFinSF1       991\nBsmtFinSF2       272\nBsmtUnfSF       1135\nTotalBsmtSF     1058\nBsmtFullBath       4\nBsmtHalfBath       3\nGarageYrBlt      103\nGarageCars         6\nGarageArea       603\ndtype: int64"
     },
     "metadata": {},
     "execution_count": 11
    }
   ],
   "source": [
    "df[float_features].nunique()"
   ]
  },
  {
   "cell_type": "code",
   "execution_count": 12,
   "metadata": {},
   "outputs": [
    {
     "output_type": "execute_result",
     "data": {
      "text/plain": "Series([], dtype: float64)"
     },
     "metadata": {},
     "execution_count": 12
    }
   ],
   "source": [
    "df[object_features].mean()"
   ]
  },
  {
   "cell_type": "code",
   "execution_count": 13,
   "metadata": {},
   "outputs": [
    {
     "output_type": "execute_result",
     "data": {
      "text/plain": "Series([], dtype: float64)"
     },
     "metadata": {},
     "execution_count": 13
    }
   ],
   "source": [
    "df[object_features].max()"
   ]
  },
  {
   "cell_type": "code",
   "execution_count": 14,
   "metadata": {},
   "outputs": [
    {
     "output_type": "execute_result",
     "data": {
      "text/plain": "MSZoning          5\nStreet            2\nAlley             2\nLotShape          4\nLandContour       4\nUtilities         2\nLotConfig         5\nLandSlope         3\nNeighborhood     25\nCondition1        9\nCondition2        8\nBldgType          5\nHouseStyle        8\nRoofStyle         6\nRoofMatl          8\nExterior1st      15\nExterior2nd      16\nMasVnrType        4\nExterQual         4\nExterCond         5\nFoundation        6\nBsmtQual          4\nBsmtCond          4\nBsmtExposure      4\nBsmtFinType1      6\nBsmtFinType2      6\nHeating           6\nHeatingQC         5\nCentralAir        2\nElectrical        5\nKitchenQual       4\nFunctional        7\nFireplaceQu       5\nGarageType        6\nGarageFinish      3\nGarageQual        5\nGarageCond        5\nPavedDrive        3\nPoolQC            3\nFence             4\nMiscFeature       4\nSaleType          9\nSaleCondition     6\ndtype: int64"
     },
     "metadata": {},
     "execution_count": 14
    }
   ],
   "source": [
    "df[object_features].nunique()"
   ]
  }
 ],
 "metadata": {
  "kernelspec": {
   "display_name": "Python 3",
   "language": "python",
   "name": "python3"
  },
  "language_info": {
   "codemirror_mode": {
    "name": "ipython",
    "version": 3
   },
   "file_extension": ".py",
   "mimetype": "text/x-python",
   "name": "python",
   "nbconvert_exporter": "python",
   "pygments_lexer": "ipython3",
   "version": "3.8.5-final"
  }
 },
 "nbformat": 4,
 "nbformat_minor": 2
}